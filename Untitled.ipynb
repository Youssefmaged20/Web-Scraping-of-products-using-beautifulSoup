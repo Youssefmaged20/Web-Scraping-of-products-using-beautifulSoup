{
 "cells": [
  {
   "cell_type": "code",
   "execution_count": 9,
   "metadata": {
    "scrolled": false
   },
   "outputs": [],
   "source": [
    "import requests\n",
    "from bs4 import BeautifulSoup\n",
    "from csv import writer\n",
    "\n",
    "response = requests.get('https://www.aliexpress.com/category/200216607/tablets.html')"
   ]
  },
  {
   "cell_type": "code",
   "execution_count": 10,
   "metadata": {},
   "outputs": [],
   "source": [
    "soup = BeautifulSoup(response.text,'html.parser')\n",
    "\n",
    "products = soup.findAll(class_='list-item')\n",
    "\n",
    "with open('products.csv','w') as csv_file:\n",
    "    csv_writer = writer(csv_file)\n",
    "    headers = [ 'Product page' , 'Product Name' , 'Price' , 'Rating' , 'Company Name' , 'Product Image']\n",
    "    \n",
    "\n",
    "    for product in products:\n",
    "        ProductName = product.find(class_='item-title').get_text().replace('\\n','')\n",
    "        print(ProductName)"
   ]
  }
 ],
 "metadata": {
  "kernelspec": {
   "display_name": "Python 3",
   "language": "python",
   "name": "python3"
  },
  "language_info": {
   "codemirror_mode": {
    "name": "ipython",
    "version": 3
   },
   "file_extension": ".py",
   "mimetype": "text/x-python",
   "name": "python",
   "nbconvert_exporter": "python",
   "pygments_lexer": "ipython3",
   "version": "3.8.3"
  }
 },
 "nbformat": 4,
 "nbformat_minor": 4
}
